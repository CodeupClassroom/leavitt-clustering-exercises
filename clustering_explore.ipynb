{
 "cells": [
  {
   "cell_type": "markdown",
   "id": "9ae1c5b1",
   "metadata": {},
   "source": [
    "# Exploration Lesson"
   ]
  },
  {
   "cell_type": "markdown",
   "id": "baf632cb",
   "metadata": {},
   "source": [
    "### Goals:"
   ]
  },
  {
   "cell_type": "markdown",
   "id": "b69ec506",
   "metadata": {},
   "source": [
    "- Can we see patterns, find signals in the data?\n",
    "\n",
    "- What features are driving the outcome?\n",
    "\n",
    "- Are there other features we can construct that have stronger relationships?\n",
    "\n",
    "- Use visualization and statistical testing to help answer these questions.\n",
    "\n",
    "- We want to walk away from exploration with with modeling strategies (feature selection, algorithm selection, evaluation methods)."
   ]
  },
  {
   "cell_type": "markdown",
   "id": "03a4bd2c",
   "metadata": {},
   "source": [
    "### Scenario:"
   ]
  },
  {
   "cell_type": "markdown",
   "id": "8d7518f5",
   "metadata": {},
   "source": [
    "We would like to be able to use attributes of customers to estimate their spending score. In doing so, we can target those customers that are likely to be most profitable for us. Our target variable is spending_score. Currently the only customer data we have available to use in this project is age, annual_income and gender. It is possible we may not have enough information to build a valuable model. If not, maybe we could do some unsupervised learning, and find clusters of similar customers using all of the variables (including spending_score) and that could help us with a starting point for our targeted marketing."
   ]
  },
  {
   "cell_type": "code",
   "execution_count": null,
   "id": "cf62e511",
   "metadata": {},
   "outputs": [],
   "source": [
    "import pandas as pd\n",
    "import numpy as np\n",
    "\n",
    "import seaborn as sns\n",
    "import matplotlib.pyplot as plt\n",
    "from scipy import stats\n",
    "\n",
    "from sklearn.model_selection import train_test_split\n",
    "from sklearn.preprocessing import MinMaxScaler\n",
    "\n",
    "from env import get_db_url"
   ]
  },
  {
   "cell_type": "markdown",
   "id": "2d4bcd25",
   "metadata": {},
   "source": [
    "## Acquire!"
   ]
  },
  {
   "cell_type": "code",
   "execution_count": null,
   "id": "18806056",
   "metadata": {},
   "outputs": [],
   "source": [
    "df = pd.read_sql('SELECT * FROM customers;', get_db_url('mall_customers'))\n",
    "df = df.set_index('customer_id')\n",
    "df.head()"
   ]
  },
  {
   "cell_type": "code",
   "execution_count": null,
   "id": "7f851b9c",
   "metadata": {},
   "outputs": [],
   "source": [
    "df.info()"
   ]
  },
  {
   "cell_type": "markdown",
   "id": "c1752056",
   "metadata": {},
   "source": [
    "## Prepare!"
   ]
  },
  {
   "cell_type": "code",
   "execution_count": null,
   "id": "caf97d62",
   "metadata": {},
   "outputs": [],
   "source": [
    "def train_validate_test_split(df, target, seed=123):\n",
    "    '''\n",
    "    This function takes in a dataframe and splits the data into train, validate and test. \n",
    "    '''\n",
    "    train_validate, test = train_test_split(df, test_size=0.2, random_state=seed)\n",
    "    train, validate = train_test_split(train_validate, test_size=0.3, random_state=seed)\n",
    "    return train, validate, test"
   ]
  },
  {
   "cell_type": "code",
   "execution_count": null,
   "id": "682315c0",
   "metadata": {},
   "outputs": [],
   "source": [
    "def scale_my_data(train, validate, test):\n",
    "    '''\n",
    "    scale my data using minmaxscaler and add it back to my input datasets\n",
    "    '''\n",
    "    scaler = MinMaxScaler()\n",
    "    scaler.fit(train[['age', 'annual_income']])\n",
    "    \n",
    "    X_train_scaled = scaler.transform(train[['age', 'annual_income']])\n",
    "    X_validate_scaled = scaler.transform(validate[['age', 'annual_income']])\n",
    "    X_test_scaled = scaler.transform(test[['age', 'annual_income']])\n",
    "\n",
    "    train[['age_scaled', 'annual_income_scaled']] = X_train_scaled\n",
    "    validate[['age_scaled', 'annual_income_scaled']] = X_validate_scaled\n",
    "    test[['age_scaled', 'annual_income_scaled']] = X_test_scaled\n",
    "    return train, validate, test"
   ]
  },
  {
   "cell_type": "code",
   "execution_count": null,
   "id": "3843b31c",
   "metadata": {},
   "outputs": [],
   "source": [
    "def prep_mall(df):\n",
    "    '''\n",
    "    dummy var for gender into is_male\n",
    "    split on target of 'spending_score'\n",
    "    scale age and annual income. \n",
    "    '''\n",
    "    df['is_male'] = pd.get_dummies(df['gender'], drop_first=True)['Male']\n",
    "    train, validate, test = train_validate_test_split(df, target='spending_score', seed=1349)\n",
    "    train, validate, test = scale_my_data(train, validate, test)\n",
    "    \n",
    "    print(f'df: {df.shape}')\n",
    "    print()\n",
    "    print(f'train: {train.shape}')\n",
    "    print(f'validate: {validate.shape}')\n",
    "    print(f'test: {test.shape}')\n",
    "    return df, train, validate, test"
   ]
  },
  {
   "cell_type": "code",
   "execution_count": null,
   "id": "902e0871",
   "metadata": {},
   "outputs": [],
   "source": [
    "df, train, validate, test = prep_mall(df)"
   ]
  },
  {
   "cell_type": "code",
   "execution_count": null,
   "id": "8e194a06",
   "metadata": {},
   "outputs": [],
   "source": [
    "train.head()"
   ]
  },
  {
   "cell_type": "markdown",
   "id": "7aae8882",
   "metadata": {},
   "source": [
    "## Explore!"
   ]
  },
  {
   "cell_type": "markdown",
   "id": "cacd05b0",
   "metadata": {},
   "source": [
    "1. Ask your question\n",
    "\n",
    "2. Vizualize it\n",
    "\n",
    "3. Perform a stats test, if needed\n",
    "\n",
    "4. Write your takeaway"
   ]
  },
  {
   "cell_type": "markdown",
   "id": "4186cacc",
   "metadata": {},
   "source": [
    "### Q1. What is the distribution of each variable?"
   ]
  },
  {
   "cell_type": "markdown",
   "id": "8a82a8a2",
   "metadata": {},
   "source": [
    "Since I'm doing at univariate exploration, I can use the original dataset."
   ]
  },
  {
   "cell_type": "code",
   "execution_count": null,
   "id": "6a6e4959",
   "metadata": {},
   "outputs": [],
   "source": []
  },
  {
   "cell_type": "markdown",
   "id": "30e38f2e",
   "metadata": {},
   "source": [
    "#### Takeaways"
   ]
  },
  {
   "cell_type": "code",
   "execution_count": null,
   "id": "fd118216",
   "metadata": {},
   "outputs": [],
   "source": []
  },
  {
   "cell_type": "markdown",
   "id": "a9ce654e",
   "metadata": {},
   "source": [
    "### Q2. Does the spending score differ across gender?"
   ]
  },
  {
   "cell_type": "markdown",
   "id": "743c49a0",
   "metadata": {},
   "source": [
    "I am now comparing variables, so I HAVE to use the train dataset."
   ]
  },
  {
   "cell_type": "markdown",
   "id": "10bf8efa",
   "metadata": {},
   "source": [
    "> what type of variable is spending_score?   \n",
    "> what type of variable is gender? "
   ]
  },
  {
   "cell_type": "code",
   "execution_count": null,
   "id": "37c44ac9",
   "metadata": {},
   "outputs": [],
   "source": [
    "#barplot\n"
   ]
  },
  {
   "cell_type": "code",
   "execution_count": null,
   "id": "b5322d86",
   "metadata": {},
   "outputs": [],
   "source": []
  },
  {
   "cell_type": "code",
   "execution_count": null,
   "id": "aeb9a90b",
   "metadata": {},
   "outputs": [],
   "source": []
  },
  {
   "cell_type": "code",
   "execution_count": null,
   "id": "64a27a0e",
   "metadata": {},
   "outputs": [],
   "source": []
  },
  {
   "cell_type": "code",
   "execution_count": null,
   "id": "6e1058d2",
   "metadata": {},
   "outputs": [],
   "source": []
  },
  {
   "cell_type": "markdown",
   "id": "1b49d413",
   "metadata": {},
   "source": [
    "Thoughts"
   ]
  },
  {
   "cell_type": "markdown",
   "id": "eed7eaf5",
   "metadata": {},
   "source": [
    "Which stats test to use? "
   ]
  },
  {
   "cell_type": "code",
   "execution_count": null,
   "id": "f8172cb6",
   "metadata": {},
   "outputs": [],
   "source": []
  },
  {
   "cell_type": "code",
   "execution_count": null,
   "id": "58eca0da",
   "metadata": {},
   "outputs": [],
   "source": [
    "#stats.levene()\n"
   ]
  },
  {
   "cell_type": "code",
   "execution_count": null,
   "id": "0b6e448e",
   "metadata": {},
   "outputs": [],
   "source": []
  },
  {
   "cell_type": "code",
   "execution_count": null,
   "id": "b7851b1c",
   "metadata": {},
   "outputs": [],
   "source": []
  },
  {
   "cell_type": "code",
   "execution_count": null,
   "id": "133c173f",
   "metadata": {},
   "outputs": [],
   "source": [
    "#stats.ttest_ind()\n",
    "stats.ttest_ind(train[train.gender=='Male'].spending_score, \n",
    "                train[train.gender=='Female'].spending_score,\n",
    "               equal_var=True)"
   ]
  },
  {
   "cell_type": "markdown",
   "id": "ed149f22",
   "metadata": {},
   "source": [
    "#### Takeaway"
   ]
  },
  {
   "cell_type": "code",
   "execution_count": null,
   "id": "397310f4",
   "metadata": {},
   "outputs": [],
   "source": []
  },
  {
   "cell_type": "markdown",
   "id": "02873917",
   "metadata": {},
   "source": [
    "### Q3. Is there a relationship between spending score and annual income?"
   ]
  },
  {
   "cell_type": "markdown",
   "id": "e3393443",
   "metadata": {},
   "source": [
    "> what type of variable is spending score?   \n",
    "> what type of variable is annual income? "
   ]
  },
  {
   "cell_type": "code",
   "execution_count": null,
   "id": "cbe7b289",
   "metadata": {},
   "outputs": [],
   "source": [
    "\n",
    "\n",
    "# plt.title('what is the relationship between annual income and spending score?')\n",
    "# plt.show()"
   ]
  },
  {
   "cell_type": "markdown",
   "id": "93e4049a",
   "metadata": {},
   "source": [
    "Thoughts"
   ]
  },
  {
   "cell_type": "markdown",
   "id": "30aa56d4",
   "metadata": {},
   "source": [
    "Which stats test to use? \n"
   ]
  },
  {
   "cell_type": "markdown",
   "id": "385929dc",
   "metadata": {},
   "source": [
    "Spearmean R\n"
   ]
  },
  {
   "cell_type": "code",
   "execution_count": null,
   "id": "ce8556f3",
   "metadata": {},
   "outputs": [],
   "source": [
    "#stats.spearmanr()\n"
   ]
  },
  {
   "cell_type": "code",
   "execution_count": null,
   "id": "f68c45fd",
   "metadata": {},
   "outputs": [],
   "source": []
  },
  {
   "cell_type": "markdown",
   "id": "b6c27117",
   "metadata": {},
   "source": [
    "#### Takeaways"
   ]
  },
  {
   "cell_type": "code",
   "execution_count": null,
   "id": "d69de485",
   "metadata": {},
   "outputs": [],
   "source": []
  },
  {
   "cell_type": "markdown",
   "id": "9595e1ca",
   "metadata": {},
   "source": [
    "### Q4. Is there a relationship between age and spending score? "
   ]
  },
  {
   "cell_type": "markdown",
   "id": "48548953",
   "metadata": {},
   "source": [
    "> what type of variable is age?    \n",
    "> what type of variable is spending score? "
   ]
  },
  {
   "cell_type": "code",
   "execution_count": null,
   "id": "9a7ef695",
   "metadata": {},
   "outputs": [],
   "source": [
    "\n",
    "# plt.title('what is the relationship between age and spending score?')\n",
    "# plt.show()"
   ]
  },
  {
   "cell_type": "markdown",
   "id": "6f1469a5",
   "metadata": {},
   "source": [
    "Thoughts"
   ]
  },
  {
   "cell_type": "markdown",
   "id": "80bebcad",
   "metadata": {},
   "source": [
    "We'll use `pd.cut()` to make bins"
   ]
  },
  {
   "cell_type": "code",
   "execution_count": null,
   "id": "70dad03b",
   "metadata": {},
   "outputs": [],
   "source": [
    "#make new age_bin column\n"
   ]
  },
  {
   "cell_type": "code",
   "execution_count": null,
   "id": "775a2aae",
   "metadata": {},
   "outputs": [],
   "source": [
    "# train.head()"
   ]
  },
  {
   "cell_type": "code",
   "execution_count": null,
   "id": "c5b7c245",
   "metadata": {},
   "outputs": [],
   "source": []
  },
  {
   "cell_type": "code",
   "execution_count": null,
   "id": "b0df7f8f",
   "metadata": {},
   "outputs": [],
   "source": [
    "\n",
    "# plt.title('relationship of spending score for people below and above 40')\n",
    "# plt.show()"
   ]
  },
  {
   "cell_type": "markdown",
   "id": "1c0e1c44",
   "metadata": {},
   "source": [
    "Which stats test to use? \n"
   ]
  },
  {
   "cell_type": "markdown",
   "id": "b6f36c84",
   "metadata": {},
   "source": [
    "Levene test"
   ]
  },
  {
   "cell_type": "code",
   "execution_count": null,
   "id": "6e59581f",
   "metadata": {},
   "outputs": [],
   "source": [
    "train.age_bin.value_counts()"
   ]
  },
  {
   "cell_type": "code",
   "execution_count": null,
   "id": "4bbd1596",
   "metadata": {},
   "outputs": [],
   "source": [
    "train.dtypes"
   ]
  },
  {
   "cell_type": "code",
   "execution_count": null,
   "id": "4e4a333c",
   "metadata": {},
   "outputs": [],
   "source": []
  },
  {
   "cell_type": "code",
   "execution_count": null,
   "id": "12b31cd2",
   "metadata": {},
   "outputs": [],
   "source": []
  },
  {
   "cell_type": "code",
   "execution_count": null,
   "id": "64f3f624",
   "metadata": {},
   "outputs": [],
   "source": [
    "#stats.levene\n"
   ]
  },
  {
   "cell_type": "markdown",
   "id": "b2a10c9c",
   "metadata": {},
   "source": [
    "> our pvalue is less than alpha, therefore we reject the null hypothesis and say our variances are not equal"
   ]
  },
  {
   "cell_type": "code",
   "execution_count": null,
   "id": "088aaf7b",
   "metadata": {},
   "outputs": [],
   "source": []
  },
  {
   "cell_type": "code",
   "execution_count": null,
   "id": "206a5004",
   "metadata": {},
   "outputs": [],
   "source": [
    "#stats.ttest_ind\n"
   ]
  },
  {
   "cell_type": "markdown",
   "id": "69ec2464",
   "metadata": {},
   "source": [
    "> our pvalue is less than alpha, therefore we reject the null hypothesis"
   ]
  },
  {
   "cell_type": "code",
   "execution_count": null,
   "id": "050b79d4",
   "metadata": {},
   "outputs": [],
   "source": []
  },
  {
   "cell_type": "markdown",
   "id": "566d5c78",
   "metadata": {},
   "source": [
    "#### Takeaway"
   ]
  },
  {
   "cell_type": "code",
   "execution_count": null,
   "id": "27f50902",
   "metadata": {},
   "outputs": [],
   "source": []
  },
  {
   "cell_type": "markdown",
   "id": "08fa08d5",
   "metadata": {},
   "source": [
    "### Q. If we control for age, does spending score differ across annual income?"
   ]
  },
  {
   "cell_type": "markdown",
   "id": "d613e6f8",
   "metadata": {},
   "source": [
    "Use `sns.relplot` to control for variables"
   ]
  },
  {
   "cell_type": "code",
   "execution_count": null,
   "id": "50a6978c",
   "metadata": {},
   "outputs": [],
   "source": []
  },
  {
   "cell_type": "markdown",
   "id": "46c1ae1e",
   "metadata": {},
   "source": [
    "Thoughts\n"
   ]
  },
  {
   "cell_type": "code",
   "execution_count": null,
   "id": "b6bd808d",
   "metadata": {},
   "outputs": [],
   "source": [
    "#create age bins in col\n",
    "\n",
    "\n",
    "# plt.suptitle(\"Do the different decades account for the upper vs lower extremes?\")\n",
    "# plt.tight_layout()"
   ]
  },
  {
   "cell_type": "markdown",
   "id": "f67c590d",
   "metadata": {},
   "source": [
    "Thoughts"
   ]
  },
  {
   "cell_type": "markdown",
   "id": "d9226697",
   "metadata": {},
   "source": [
    "#### Does gender play a role?"
   ]
  },
  {
   "cell_type": "code",
   "execution_count": null,
   "id": "73067241",
   "metadata": {},
   "outputs": [],
   "source": [
    "\n",
    "# plt.suptitle(\"Do the different decades account for the upper vs lower extremes?\")\n",
    "# plt.tight_layout()"
   ]
  },
  {
   "cell_type": "markdown",
   "id": "98d2a91f",
   "metadata": {},
   "source": [
    "Thoughts\n"
   ]
  },
  {
   "cell_type": "markdown",
   "id": "2de96074",
   "metadata": {},
   "source": [
    "#### Takeaways\n"
   ]
  },
  {
   "cell_type": "code",
   "execution_count": null,
   "id": "ecdef2c6",
   "metadata": {},
   "outputs": [],
   "source": []
  },
  {
   "cell_type": "markdown",
   "id": "40b64c7f",
   "metadata": {},
   "source": [
    "### Q. If we control for annual income, does spending score differ across age?"
   ]
  },
  {
   "cell_type": "code",
   "execution_count": null,
   "id": "67c4cfdd",
   "metadata": {},
   "outputs": [],
   "source": [
    "\n",
    "# plt.title('annual_income')\n",
    "# plt.show()"
   ]
  },
  {
   "cell_type": "code",
   "execution_count": null,
   "id": "e893f4c0",
   "metadata": {},
   "outputs": [],
   "source": [
    "#make income_bin\n",
    "\n",
    "#plot it\n",
    "\n",
    "# plt.title(\"How does age compare to spending score within each income bin?\")\n",
    "# plt.show()"
   ]
  },
  {
   "cell_type": "markdown",
   "id": "07538266",
   "metadata": {},
   "source": [
    "Takeaways\n"
   ]
  },
  {
   "cell_type": "markdown",
   "id": "4e0a3cd1",
   "metadata": {},
   "source": [
    "### If you don't know where to start, start with pairplot"
   ]
  },
  {
   "cell_type": "code",
   "execution_count": null,
   "id": "4e197496",
   "metadata": {},
   "outputs": [],
   "source": [
    "# print(\"Interaction of variables along with income bins\")\n",
    "\n",
    "# plt.show()"
   ]
  },
  {
   "cell_type": "code",
   "execution_count": null,
   "id": "f6186bf6",
   "metadata": {},
   "outputs": [],
   "source": [
    "# print(\"Interaction of variables by gender\")\n",
    "\n",
    "# plt.show()"
   ]
  },
  {
   "cell_type": "markdown",
   "id": "dddf5c33",
   "metadata": {},
   "source": [
    "## Conclusion\n",
    "\n"
   ]
  },
  {
   "cell_type": "code",
   "execution_count": null,
   "id": "603c629b",
   "metadata": {},
   "outputs": [],
   "source": []
  }
 ],
 "metadata": {
  "kernelspec": {
   "display_name": "Python 3 (ipykernel)",
   "language": "python",
   "name": "python3"
  },
  "language_info": {
   "codemirror_mode": {
    "name": "ipython",
    "version": 3
   },
   "file_extension": ".py",
   "mimetype": "text/x-python",
   "name": "python",
   "nbconvert_exporter": "python",
   "pygments_lexer": "ipython3",
   "version": "3.9.12"
  }
 },
 "nbformat": 4,
 "nbformat_minor": 5
}
